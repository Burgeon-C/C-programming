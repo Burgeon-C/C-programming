{
  "nbformat": 4,
  "nbformat_minor": 0,
  "metadata": {
    "colab": {
      "name": "W11 Solution.ipynb",
      "provenance": []
    },
    "kernelspec": {
      "name": "python3",
      "display_name": "Python 3"
    },
    "language_info": {
      "name": "python"
    }
  },
  "cells": [
    {
      "cell_type": "code",
      "metadata": {
        "colab": {
          "base_uri": "https://localhost:8080/"
        },
        "id": "ROsnaoVzl1ZE",
        "outputId": "e67c5abc-f8ca-4a34-ceb7-e171a0a65741"
      },
      "source": [
        "%%writefile W11solution.cpp \n",
        "#include <iostream>\n",
        "#include <iomanip>\n",
        "#include <ctime>\n",
        "#include <cmath>\n",
        "using namespace std;\n",
        "\n",
        "double approxPIsquared_iter(double x){\n",
        "    double sum=0;\n",
        "    for(double i=1; i<=x; i++){\n",
        "        sum+=8/((2*i-1)*(2*i-1));\n",
        "    }\n",
        "    return sum;\n",
        "}\n",
        "\n",
        "double approxPIsquared_recur(double x){     \n",
        "    if(x==1){\n",
        "        return 8.0;\n",
        "    }\n",
        "    else{\n",
        "\n",
        "        return approxPIsquared_recur(x-1)+8/((2*x-1)*(2*x-1));\n",
        "    }\n",
        "}\n",
        "\n",
        "int main(){\n",
        "    int num;\n",
        "   \n",
        "    cout<<\"How many numbers are in the series?:\";\n",
        "    cin>>num;\n",
        "\n",
        "    double time_iter_start=clock();\n",
        "    cout<<\"(iterative)By including \"<<num<<\" in the series, the approximated Pi is \"<< setprecision(12) << sqrt(approxPIsquared_iter(num)) <<endl;\n",
        "    double time_iter_end=clock();\n",
        "    cout<<\"It takes \"<<(time_iter_end-time_iter_start)/CLOCKS_PER_SEC<<\"secs\"<<endl;\n",
        "\n",
        "    double time_recur_start=clock();\n",
        "    cout<<\"(recursive)By including \"<<num<<\" in the series, the approximated Pi is \"<< setprecision(12) << sqrt(approxPIsquared_recur(num)) <<endl;\n",
        "    double time_recur_end=clock();\n",
        "    cout<<\"It takes \"<<(time_recur_end-time_recur_start)/CLOCKS_PER_SEC<<\"secs\"<<endl;\n",
        "\n",
        "    return 0; \n",
        "}"
      ],
      "execution_count": 67,
      "outputs": [
        {
          "output_type": "stream",
          "name": "stdout",
          "text": [
            "Overwriting W11solution.cpp\n"
          ]
        }
      ]
    },
    {
      "cell_type": "code",
      "metadata": {
        "colab": {
          "base_uri": "https://localhost:8080/"
        },
        "id": "ZKtlJRX8rKiJ",
        "outputId": "f94f1c5a-2bbd-4a02-87a2-31a2f77f4512"
      },
      "source": [
        "%%shell\n",
        "g++ W11solution.cpp -o W11solution\n",
        "./W11solution"
      ],
      "execution_count": 69,
      "outputs": [
        {
          "output_type": "stream",
          "name": "stdout",
          "text": [
            "How many numbers are in the series?:19999\n",
            "(iterative)By including 19999 in the series, the approximated Pi is 3.14157673726\n",
            "It takes 0.000146secs\n",
            "(recursive)By including 19999 in the series, the approximated Pi is 3.14157673726\n",
            "It takes 0.000521secs\n"
          ]
        },
        {
          "output_type": "execute_result",
          "data": {
            "text/plain": [
              ""
            ]
          },
          "metadata": {},
          "execution_count": 69
        }
      ]
    },
    {
      "cell_type": "code",
      "metadata": {
        "id": "Jue8XsfNrmEP"
      },
      "source": [
        ""
      ],
      "execution_count": null,
      "outputs": []
    }
  ]
}