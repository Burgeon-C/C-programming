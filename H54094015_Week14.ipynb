{
  "nbformat": 4,
  "nbformat_minor": 0,
  "metadata": {
    "colab": {
      "name": "W14Solution.ipynb",
      "provenance": []
    },
    "kernelspec": {
      "name": "python3",
      "display_name": "Python 3"
    },
    "language_info": {
      "name": "python"
    }
  },
  "cells": [
    {
      "cell_type": "code",
      "execution_count": 44,
      "metadata": {
        "colab": {
          "base_uri": "https://localhost:8080/"
        },
        "id": "ExZFPBqbZoFP",
        "outputId": "499aba0f-22d9-4332-898e-f181d790b572"
      },
      "outputs": [
        {
          "output_type": "stream",
          "name": "stdout",
          "text": [
            "Overwriting W14Solution.cpp\n"
          ]
        }
      ],
      "source": [
        "%%writefile W14Solution.cpp \n",
        "#include <iostream>\n",
        "#include <iomanip>\n",
        "using namespace std;\n",
        "\n",
        "void print_matrix(int X[1000][1000], int n){\n",
        "    for(int i=0; i<n; i++){\n",
        "        for(int j=0; j<n; j++)\n",
        "            cout<<setw(7)<<left<<X[i][j];\n",
        "        cout<<endl;\n",
        "    }\n",
        "}\n",
        "\n",
        "void multiple_matrix(int Y[1000][1000], int X[100][1000], int n){\n",
        "    for(int k=0; k<n; k++)\n",
        "        for(int j=0; j<n; j++)\n",
        "            for(int i=0; i<n; i++)\n",
        "                Y[i][j]+=X[i][k]*X[k][j];\n",
        "}\n",
        "\n",
        "int main(){\n",
        "    cout<<\"Please enter a number n to build a matrix A:\";\n",
        "    int n;\n",
        "    cin>>n;\n",
        "    cout<<\"Please input integer number in your Matrix:\";    \n",
        "    int A[1000][1000];\n",
        "    for(int i=0; i<n; i++)\n",
        "        for(int j=0; j<n; j++)         \n",
        "            cin>>A[i][j];\n",
        "    print_matrix(A,n);\n",
        "    \n",
        "    cout<<\"Matrix A multiplied by itself:\"<<endl;\n",
        "\n",
        "    int M[1000][1000]={0};\n",
        "    multiple_matrix(M,A,n);\n",
        "    print_matrix(M,n);\n",
        "\n",
        "    return 0; \n",
        "}"
      ]
    },
    {
      "cell_type": "code",
      "source": [
        "%%shell\n",
        "g++ W14Solution.cpp -o W14Solution\n",
        "./W14Solution"
      ],
      "metadata": {
        "colab": {
          "base_uri": "https://localhost:8080/"
        },
        "id": "mGc1ghVmnKiL",
        "outputId": "f177f89e-152d-4dae-9440-cd029224fab5"
      },
      "execution_count": 45,
      "outputs": [
        {
          "output_type": "stream",
          "name": "stdout",
          "text": [
            "Please enter a number n to build a matrix A:3\n",
            "Please input integer number in your Matrix:11 22 33 444 555 66 77 8 99\n",
            "11     22     33     \n",
            "444    555    66     \n",
            "77     8      99     \n",
            "Matrix A multiplied by itself:\n",
            "12430  12716  5082   \n",
            "256386 318321 57816  \n",
            "12022  6926   12870  \n"
          ]
        },
        {
          "output_type": "execute_result",
          "data": {
            "text/plain": [
              ""
            ]
          },
          "metadata": {},
          "execution_count": 45
        }
      ]
    }
  ]
}