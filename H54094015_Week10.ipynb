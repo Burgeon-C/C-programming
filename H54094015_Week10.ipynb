{
  "nbformat": 4,
  "nbformat_minor": 0,
  "metadata": {
    "colab": {
      "name": "W10solution.ipynb",
      "provenance": []
    },
    "kernelspec": {
      "name": "python3",
      "display_name": "Python 3"
    },
    "language_info": {
      "name": "python"
    }
  },
  "cells": [
    {
      "cell_type": "code",
      "metadata": {
        "colab": {
          "base_uri": "https://localhost:8080/"
        },
        "id": "CsVWtPoXyltJ",
        "outputId": "a089a594-b25b-46f5-f509-f26bcc9e1420"
      },
      "source": [
        "%%writefile W10solution.cpp\n",
        "#include<iostream>\n",
        "#include<ctime>\n",
        "using namespace std;\n",
        " \n",
        "int main()\n",
        "{\n",
        "\tint i;\n",
        "\tint a = 0;\n",
        "\tint b = 0;\n",
        "  int c = 0;\n",
        "  int N=5000;\n",
        "\tfloat notChange = 0;\n",
        "\tfloat change = 0;\n",
        "\tint n;\n",
        " \n",
        " \n",
        "\tsrand(time(0));\n",
        "\tfor(i = 0; i <= 5000; i++)\n",
        "\t{\n",
        "\t\tn = rand();\n",
        "\t\tif(1 == n % 3)\n",
        "\t\t{\n",
        "\t\t\ta = 0;\n",
        "\t\t\tb = 0;\n",
        "\t\t\tc = 1;\n",
        "\t\t\tchange++;\n",
        "\t\t}\n",
        "\t\telse if(2 == n % 3)\n",
        "\t\t{\n",
        "\t\t\ta = 0;\n",
        "\t\t\tb = 1;\n",
        "\t\t\tc = 0;\n",
        "\t\t\tchange++;\n",
        "\t\t}\n",
        "\t\telse\n",
        "\t\t{\n",
        "\t\t\ta = 1;\n",
        "\t\t\tb = 0;\n",
        "\t\t\tc = 0;\n",
        "\t\t\tnotChange++;\n",
        "\t\t}\n",
        "\t\t\n",
        "\t}\n",
        "\tcout <<\"If you don't switch, the prob. of winning is:\"<< notChange / N << endl << \"If you don't switch, the prob. of winning is:\"<<change / N << endl;\n",
        " \n",
        "\treturn 0;\n",
        "}"
      ],
      "execution_count": 27,
      "outputs": [
        {
          "output_type": "stream",
          "name": "stdout",
          "text": [
            "Overwriting W10solution.cpp\n"
          ]
        }
      ]
    },
    {
      "cell_type": "code",
      "metadata": {
        "colab": {
          "base_uri": "https://localhost:8080/"
        },
        "id": "HH_3vVBgwFKL",
        "outputId": "2bdcf999-960f-44db-e01d-7ff699a4a090"
      },
      "source": [
        "%%shell\n",
        "g++ W10solution.cpp -o W10solution\n",
        "./W10solution"
      ],
      "execution_count": 29,
      "outputs": [
        {
          "output_type": "stream",
          "name": "stdout",
          "text": [
            "If you don't switch, the prob. of winning is:0.3418\n",
            "If you don't switch, the prob. of winning is:0.6584\n"
          ]
        },
        {
          "output_type": "execute_result",
          "data": {
            "text/plain": [
              ""
            ]
          },
          "metadata": {},
          "execution_count": 29
        }
      ]
    }
  ]
}