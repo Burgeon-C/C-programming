{
  "nbformat": 4,
  "nbformat_minor": 0,
  "metadata": {
    "colab": {
      "name": "c++ week3 excercise.ipynb",
      "provenance": [],
      "collapsed_sections": []
    },
    "kernelspec": {
      "name": "python3",
      "display_name": "Python 3"
    },
    "language_info": {
      "name": "python"
    }
  },
  "cells": [
    {
      "cell_type": "code",
      "metadata": {
        "colab": {
          "base_uri": "https://localhost:8080/"
        },
        "id": "6LMcQQ4UEI3O",
        "outputId": "ac90ddd9-1eb7-4113-a985-e681baa68111"
      },
      "source": [
        "%%writefile W3solution.cpp\n",
        "#include<iostream>\n",
        "using namespace std;\n",
        "int main(){\n",
        "  int number;\n",
        "  cout<<\"Input a four digit AD year:\";\n",
        "  cin>>number;\n",
        "  if (number<1000)\n",
        "  cout<<\"Wrong input!\";\n",
        "  else if (number%400==0 or number%4==0 and number%100!=0)\n",
        "  cout<<\"Leap year!\";\n",
        "  else cout<<\"Common year!\";\n",
        "  \n",
        "return 0; \n",
        "\n",
        "}"
      ],
      "execution_count": 107,
      "outputs": [
        {
          "output_type": "stream",
          "name": "stdout",
          "text": [
            "Overwriting W3solution.cpp\n"
          ]
        }
      ]
    },
    {
      "cell_type": "code",
      "metadata": {
        "colab": {
          "base_uri": "https://localhost:8080/"
        },
        "id": "euuuA3fGSH51",
        "outputId": "ef53af64-c2bd-4c06-b2ba-03a954af03e6"
      },
      "source": [
        "%%shell\n",
        "g++ W3solution.cpp -o W3solution\n",
        "./W3solution"
      ],
      "execution_count": 108,
      "outputs": [
        {
          "output_type": "stream",
          "name": "stdout",
          "text": [
            "Input a four digit AD year:p2000\n",
            "Wrong input!"
          ]
        },
        {
          "output_type": "execute_result",
          "data": {
            "text/plain": [
              ""
            ]
          },
          "metadata": {},
          "execution_count": 108
        }
      ]
    },
    {
      "cell_type": "code",
      "metadata": {
        "id": "XcdmbE3PSOyj"
      },
      "source": [
        ""
      ],
      "execution_count": null,
      "outputs": []
    }
  ]
}