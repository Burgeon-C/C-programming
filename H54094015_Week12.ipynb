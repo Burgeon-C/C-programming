{
  "nbformat": 4,
  "nbformat_minor": 0,
  "metadata": {
    "colab": {
      "name": "W12solution.ipynb",
      "provenance": []
    },
    "kernelspec": {
      "name": "python3",
      "display_name": "Python 3"
    },
    "language_info": {
      "name": "python"
    }
  },
  "cells": [
    {
      "cell_type": "code",
      "metadata": {
        "colab": {
          "base_uri": "https://localhost:8080/"
        },
        "id": "I1hgtGcutxur",
        "outputId": "60fe3b86-4a84-486d-df71-275d7edc1c3c"
      },
      "source": [
        "%%writefile W12solution.cpp\n",
        "\n",
        "#include <iostream>\n",
        "#include <ctime>\n",
        "#include<stdlib.h>\n",
        "using namespace std;\n",
        "void mySwap(int S[], int n);\n",
        "\n",
        "int main(){\n",
        "    \n",
        "    int a,b,c;\n",
        "    const int n = 10;\n",
        "    int S[n];\n",
        "    \n",
        "    srand(time(NULL));\n",
        "    \n",
        "    for (a = 0; a < n; a++){\n",
        "        S[a] = {rand()%1000 + 1};\n",
        "    }\n",
        "\n",
        "    cout << \"Ten random numbers: \";\n",
        "    for (b = 0; b < n; b++){ \n",
        "        cout << S[b] << \" \";\n",
        "\n",
        "    }\n",
        "    \n",
        "    \n",
        "    mySwap(S,n);\n",
        "\n",
        "    cout << \"\\n\" << \"Sorted by bubble sorting: \";\n",
        "    for (c = 0; c < n; c++){\n",
        "        cout << S[c] << \" \";\n",
        "    }\n",
        "\n",
        "    return 0;\n",
        "\n",
        "}\n",
        "void  mySwap(int S[], int n)\n",
        "{\n",
        "    using namespace std;\n",
        "    int temp;\n",
        "    for (int j=0;j<n-1;j++)    //外循环，需要进行多少趟比较\n",
        "        for (int i = 0; i < n - 1 - j; i++)   //内循环，每趟需要比较多少次\n",
        "        {\n",
        "            if (S[i] > S[i + 1])\n",
        "            {\n",
        "                temp = S[i];\n",
        "                S[i] = S[i + 1];\n",
        "                S[i + 1] = temp;\n",
        "            }\n",
        "        }\n",
        "}"
      ],
      "execution_count": 22,
      "outputs": [
        {
          "output_type": "stream",
          "name": "stdout",
          "text": [
            "Overwriting W12solution.cpp\n"
          ]
        }
      ]
    },
    {
      "cell_type": "code",
      "metadata": {
        "colab": {
          "base_uri": "https://localhost:8080/"
        },
        "id": "20YT5aoQt8v7",
        "outputId": "54e5a44e-de28-4353-b533-e16a9229488e"
      },
      "source": [
        "%%shell \n",
        "g++ W12solution.cpp -o W12solution\n",
        "./W12solution"
      ],
      "execution_count": 23,
      "outputs": [
        {
          "output_type": "stream",
          "name": "stdout",
          "text": [
            "Ten random numbers: 198 331 606 795 447 705 476 41 19 768 \n",
            "Sorted by bubble sorting: 19 41 198 331 447 476 606 705 768 795 "
          ]
        },
        {
          "output_type": "execute_result",
          "data": {
            "text/plain": [
              ""
            ]
          },
          "metadata": {},
          "execution_count": 23
        }
      ]
    }
  ]
}