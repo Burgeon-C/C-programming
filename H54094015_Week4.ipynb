{
  "nbformat": 4,
  "nbformat_minor": 0,
  "metadata": {
    "colab": {
      "name": "W4solution.ipynb",
      "provenance": []
    },
    "kernelspec": {
      "name": "python3",
      "display_name": "Python 3"
    },
    "language_info": {
      "name": "python"
    }
  },
  "cells": [
    {
      "cell_type": "code",
      "metadata": {
        "colab": {
          "base_uri": "https://localhost:8080/"
        },
        "id": "4HvBR7vhQXCc",
        "outputId": "46aef792-74a3-4e09-f6d4-43435a95bac0"
      },
      "source": [
        "%%writefile W4solution.cpp\n",
        "#include <iostream>\n",
        "using namespace std;\n",
        "int main(){\n",
        "int Fn,n=2,Fn_1=1,Fn_2=0; \n",
        "while (n<21){\n",
        "  Fn=Fn_1+Fn_2;\n",
        "  cout<<\"F\"<<n<<\"=\"<<Fn<<endl;\n",
        "  n++;\n",
        "  Fn_1=Fn;\n",
        "  Fn_2=Fn_1;\n",
        "}  \n",
        "return 0;\n",
        "}"
      ],
      "execution_count": 1,
      "outputs": [
        {
          "output_type": "stream",
          "name": "stdout",
          "text": [
            "Writing W4solution.cpp\n"
          ]
        }
      ]
    },
    {
      "cell_type": "code",
      "metadata": {
        "colab": {
          "base_uri": "https://localhost:8080/"
        },
        "id": "tpFN-dCGSLe6",
        "outputId": "699aa26c-23cc-46ee-bf5d-b34cd0e51792"
      },
      "source": [
        "%%shell\n",
        "g++ W4solution.cpp -o W4solution\n",
        "./W4solution"
      ],
      "execution_count": 2,
      "outputs": [
        {
          "output_type": "stream",
          "name": "stdout",
          "text": [
            "F2=1\n",
            "F3=2\n",
            "F4=4\n",
            "F5=8\n",
            "F6=16\n",
            "F7=32\n",
            "F8=64\n",
            "F9=128\n",
            "F10=256\n",
            "F11=512\n",
            "F12=1024\n",
            "F13=2048\n",
            "F14=4096\n",
            "F15=8192\n",
            "F16=16384\n",
            "F17=32768\n",
            "F18=65536\n",
            "F19=131072\n",
            "F20=262144\n"
          ]
        },
        {
          "output_type": "execute_result",
          "data": {
            "text/plain": [
              ""
            ]
          },
          "metadata": {},
          "execution_count": 2
        }
      ]
    }
  ]
}