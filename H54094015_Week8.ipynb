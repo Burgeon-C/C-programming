{
  "nbformat": 4,
  "nbformat_minor": 0,
  "metadata": {
    "colab": {
      "name": "W8solution.ipynb",
      "provenance": [],
      "collapsed_sections": []
    },
    "kernelspec": {
      "name": "python3",
      "display_name": "Python 3"
    },
    "language_info": {
      "name": "python"
    }
  },
  "cells": [
    {
      "cell_type": "code",
      "metadata": {
        "colab": {
          "base_uri": "https://localhost:8080/"
        },
        "id": "-K5DZ7W7bbCa",
        "outputId": "ad31537a-6766-405c-9617-d3832df6e6cd"
      },
      "source": [
        "%%writefile W8solution.cpp\n",
        "\n",
        "#include <iostream>\n",
        "#include <cstdlib>\n",
        "#include <ctime>\n",
        "using namespace std;\n",
        "\n",
        "int main()\n",
        "{\n",
        "  int answer,guess; \n",
        "  srand(time(0));                               \n",
        "  answer=rand()%100+1;                 \n",
        "  cout<<\"Please input a between 1 and 100(inclusive)(Or input -1 to leave):\";\n",
        "  cin>>guess;\n",
        "    if(guess==-1){\n",
        "      cout<<\"Bye!\"<<endl;\n",
        "      return 0;\n",
        "    }\n",
        "    while(guess!=answer){ \n",
        "      if(guess<answer){                     \n",
        "          cout<<\"Higher!\"<<endl;\n",
        "      }   \n",
        "      else{\n",
        "          cout<<\"Lower!\"<<endl;                \n",
        "      }\n",
        "    cout<<\"Please input a between 1 and 100(inclusive)(Or input -1 to leave):\";\n",
        "    cin>>guess;\n",
        "    }\n",
        "    if(guess==answer){ \n",
        "      cout<<\"You got it! The answer is \"<<answer<<endl;\n",
        "    }\n",
        "return 0;\n",
        "}"
      ],
      "execution_count": 90,
      "outputs": [
        {
          "output_type": "stream",
          "name": "stdout",
          "text": [
            "Overwriting W8solution.cpp\n"
          ]
        }
      ]
    },
    {
      "cell_type": "code",
      "metadata": {
        "colab": {
          "base_uri": "https://localhost:8080/"
        },
        "id": "qYD_K0mdOBgn",
        "outputId": "a7eb6bc8-91c9-4516-b724-a449d328b51d"
      },
      "source": [
        "%%shell\n",
        "g++ W8solution.cpp -o W8solution\n",
        "./W8solution"
      ],
      "execution_count": 91,
      "outputs": [
        {
          "output_type": "stream",
          "name": "stdout",
          "text": [
            "Please input a between 1 and 100(inclusive)(Or input -1 to leave):-1\n",
            "Bye!\n"
          ]
        },
        {
          "output_type": "execute_result",
          "data": {
            "text/plain": [
              ""
            ]
          },
          "metadata": {},
          "execution_count": 91
        }
      ]
    },
    {
      "cell_type": "code",
      "metadata": {
        "id": "J1BkK6cIb8Hj"
      },
      "source": [
        ""
      ],
      "execution_count": null,
      "outputs": []
    }
  ]
}