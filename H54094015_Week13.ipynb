{
  "nbformat": 4,
  "nbformat_minor": 0,
  "metadata": {
    "colab": {
      "name": "W13_Solution.ipynb",
      "provenance": []
    },
    "kernelspec": {
      "name": "python3",
      "display_name": "Python 3"
    },
    "language_info": {
      "name": "python"
    }
  },
  "cells": [
    {
      "cell_type": "code",
      "execution_count": 31,
      "metadata": {
        "colab": {
          "base_uri": "https://localhost:8080/"
        },
        "id": "z4EeEARnMuLj",
        "outputId": "e57cedf9-ee6d-49ad-b789-47eaa500d83f"
      },
      "outputs": [
        {
          "output_type": "stream",
          "name": "stdout",
          "text": [
            "Overwriting W13Solution.cpp\n"
          ]
        }
      ],
      "source": [
        "%%writefile W13Solution.cpp \n",
        "#include <iostream>\n",
        "#include <iomanip>\n",
        "#include <ctime>\n",
        "#include <math.h>\n",
        "using namespace std;\n",
        "\n",
        "int main(){\n",
        "    srand(time(NULL));\n",
        "    int Hit_point_C= 0;\n",
        "    for(int i=0; i<5000000; i++){\n",
        "        double x=(rand()%20000001/10000000.0)-1; \n",
        "        double y=(rand()%20000001/10000000.0)-1;\n",
        "        if(pow(x,2)+pow(y,2) <= 1)\n",
        "            Hit_point_C++;\n",
        "    }\n",
        "    \n",
        "    cout<<\"The Pi is:\"<<fixed<<setprecision(6)<<(Hit_point_C/5000000.0)*4;\n",
        "\n",
        "    return 0; \n",
        "}"
      ]
    },
    {
      "cell_type": "code",
      "source": [
        "%%shell\n",
        "g++ W13Solution.cpp -o W13Solution\n",
        "./W13Solution"
      ],
      "metadata": {
        "colab": {
          "base_uri": "https://localhost:8080/"
        },
        "id": "kAu9ShgiNBZl",
        "outputId": "3b88675a-8eb6-4c98-fd87-16b0bc46b5e1"
      },
      "execution_count": null,
      "outputs": [
        {
          "output_type": "stream",
          "name": "stdout",
          "text": [
            "The Pi is:3.140066"
          ]
        },
        {
          "output_type": "execute_result",
          "data": {
            "text/plain": [
              ""
            ]
          },
          "metadata": {},
          "execution_count": 30
        }
      ]
    }
  ]
}