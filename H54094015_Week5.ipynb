{
  "nbformat": 4,
  "nbformat_minor": 0,
  "metadata": {
    "colab": {
      "name": "W5Solution.ipynb",
      "provenance": []
    },
    "kernelspec": {
      "name": "python3",
      "display_name": "Python 3"
    },
    "language_info": {
      "name": "python"
    }
  },
  "cells": [
    {
      "cell_type": "code",
      "metadata": {
        "colab": {
          "base_uri": "https://localhost:8080/"
        },
        "id": "M4kVsg3pXFDH",
        "outputId": "84d91c2e-747b-4d59-e1f9-be2c3c0902e2"
      },
      "source": [
        "%%writefile W5Solution.cpp\n",
        "#include <iostream>\n",
        "using namespace std;\n",
        "int main(){\n",
        "  int i,j,k,n;\n",
        "  cout<<\"Please input the height of your pyramid:\";\n",
        "  cin>>n;\n",
        "  for (i=1;i<=n;i++){\n",
        "    for (j=1;j<=n-i;j++){\n",
        "      cout<<\" \";  \n",
        "    }\n",
        "    for (k=1;k<=i;k++){\n",
        "      cout<<\"x\";\n",
        "    }\n",
        "    cout<<\"\\n\";\n",
        "  }\n",
        "return 0;\n",
        "}"
      ],
      "execution_count": 76,
      "outputs": [
        {
          "output_type": "stream",
          "name": "stdout",
          "text": [
            "Overwriting W5Solution.cpp\n"
          ]
        }
      ]
    },
    {
      "cell_type": "code",
      "metadata": {
        "colab": {
          "base_uri": "https://localhost:8080/"
        },
        "id": "GWVlOOHmd7DU",
        "outputId": "b22906f2-41ed-48df-c572-aa61c3e57f88"
      },
      "source": [
        "%%shell\n",
        "g++ W5Solution.cpp -o W5Solution\n",
        "./W5Solution"
      ],
      "execution_count": 77,
      "outputs": [
        {
          "output_type": "stream",
          "name": "stdout",
          "text": [
            "Please input the height of your pyramid:11\n",
            "          x\n",
            "         xx\n",
            "        xxx\n",
            "       xxxx\n",
            "      xxxxx\n",
            "     xxxxxx\n",
            "    xxxxxxx\n",
            "   xxxxxxxx\n",
            "  xxxxxxxxx\n",
            " xxxxxxxxxx\n",
            "xxxxxxxxxxx\n"
          ]
        },
        {
          "output_type": "execute_result",
          "data": {
            "text/plain": [
              ""
            ]
          },
          "metadata": {},
          "execution_count": 77
        }
      ]
    }
  ]
}