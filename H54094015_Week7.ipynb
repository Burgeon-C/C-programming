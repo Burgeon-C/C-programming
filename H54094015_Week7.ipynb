{
  "nbformat": 4,
  "nbformat_minor": 0,
  "metadata": {
    "colab": {
      "name": " W7solution.ipynb",
      "provenance": [],
      "collapsed_sections": []
    },
    "kernelspec": {
      "display_name": "Python 3",
      "name": "python3"
    },
    "language_info": {
      "name": "python"
    }
  },
  "cells": [
    {
      "cell_type": "code",
      "metadata": {
        "colab": {
          "base_uri": "https://localhost:8080/"
        },
        "id": "OVO_wqVSduNW",
        "outputId": "04234a42-40c6-4bcf-fe6d-ef7e7dc950e2"
      },
      "source": [
        "%%writefile W7solution.cpp\n",
        "\n",
        "#include <iostream>\n",
        "using namespace std;\n",
        "\n",
        "bool isprime(int);\n",
        "   \n",
        "int main(){    \n",
        "  int n,i;\n",
        "\n",
        "  cout<<\"Please input a positive integer:\";\n",
        "  cin>>n;\n",
        "  cout<<\"Prime factors:\";\n",
        "   for(i=2;i<n;i++){     \n",
        "    if(n%i!=0){\n",
        "    continue;\n",
        "    }\n",
        "    if(isprime(i))\n",
        "      cout<<i<<\" \";\n",
        "    }\n",
        "\n",
        "   return 0;\n",
        "}\n",
        "\n",
        "bool isprime(int a){\n",
        "    \n",
        "   if (a<2){\n",
        "    return false;\n",
        "   }\n",
        "    for (int b=2;b<a;b++){\n",
        "        if (a%b==0){\n",
        "            return false;     \n",
        "        }    \n",
        "    }\n",
        "    return true;\n",
        "    \n",
        "}"
      ],
      "execution_count": 77,
      "outputs": [
        {
          "output_type": "stream",
          "name": "stdout",
          "text": [
            "Overwriting W7solution.cpp\n"
          ]
        }
      ]
    },
    {
      "cell_type": "code",
      "metadata": {
        "colab": {
          "base_uri": "https://localhost:8080/"
        },
        "id": "0ZgSZTXHehTF",
        "outputId": "9ddb00ec-afe4-433b-f84e-1b68876e1eac"
      },
      "source": [
        "%%shell\n",
        "g++ W7solution.cpp -o W7solution\n",
        "./W7solution"
      ],
      "execution_count": 78,
      "outputs": [
        {
          "output_type": "stream",
          "name": "stdout",
          "text": [
            "Please input a positive integer:100\n",
            "Prime factors:2 5 "
          ]
        },
        {
          "output_type": "execute_result",
          "data": {
            "text/plain": [
              ""
            ]
          },
          "metadata": {},
          "execution_count": 78
        }
      ]
    }
  ]
}