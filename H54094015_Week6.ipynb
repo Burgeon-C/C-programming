{
  "nbformat": 4,
  "nbformat_minor": 0,
  "metadata": {
    "colab": {
      "name": "Exercise Week6",
      "provenance": []
    },
    "kernelspec": {
      "name": "python3",
      "display_name": "Python 3"
    },
    "language_info": {
      "name": "python"
    }
  },
  "cells": [
    {
      "cell_type": "code",
      "metadata": {
        "colab": {
          "base_uri": "https://localhost:8080/"
        },
        "id": "04g6i4I6OKfn",
        "outputId": "93c5ddd4-f40d-4944-e3e9-b19900df6ccf"
      },
      "source": [
        "%%writefile W6solution.cpp\n",
        "#include<iostream>\n",
        "using namespace std;\n",
        "\n",
        "int main()\n",
        "{\n",
        "  int n,i;\n",
        "  cout<<\"Please imput a positive integer:\";\n",
        "  cin>>n;\n",
        "  i=1;\n",
        "  cout<<\"Factors:\";\n",
        "  while(i<=n){\n",
        "   if(n%i==0 && n!=i && i!=1){\n",
        "    cout<<\" \"<<i;\n",
        "      \n",
        "   }\n",
        "  i++;\n",
        "  }  \n",
        "\n",
        "return 0;\n",
        "}"
      ],
      "execution_count": 59,
      "outputs": [
        {
          "output_type": "stream",
          "name": "stdout",
          "text": [
            "Overwriting W6solution.cpp\n"
          ]
        }
      ]
    },
    {
      "cell_type": "code",
      "metadata": {
        "colab": {
          "base_uri": "https://localhost:8080/"
        },
        "id": "ecN-r8XUMhY3",
        "outputId": "b22387a5-d14e-4a29-8ae2-e3df21a5b31f"
      },
      "source": [
        "%%shell\n",
        "g++ W6solution.cpp -o W6solution\n",
        "./W6solution"
      ],
      "execution_count": 60,
      "outputs": [
        {
          "output_type": "stream",
          "name": "stdout",
          "text": [
            "Please imput a positive integer:100\n",
            "Factors: 2 4 5 10 20 25 50"
          ]
        },
        {
          "output_type": "execute_result",
          "data": {
            "text/plain": [
              ""
            ]
          },
          "metadata": {},
          "execution_count": 60
        }
      ]
    }
  ]
}